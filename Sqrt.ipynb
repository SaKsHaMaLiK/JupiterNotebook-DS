import math
math.sqrt(x)
//x = number whose square root you need to find
