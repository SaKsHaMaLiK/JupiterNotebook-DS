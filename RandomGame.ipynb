import random
number = random.choice(range(1,21))
i = 1
while i <= 10:
    guess = int(input('Enter a number:'))
    if number == guess:
        print('Correct. You Win!')
        break
    elif number < guess:
        print('Given number is too high')
    elif number > guess:
        print('Given number is too low')
    else:
        pass
    i += 1
