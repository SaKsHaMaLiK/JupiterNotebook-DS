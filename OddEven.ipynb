n=int(input('Enter a number:'))
if n%2 == 0:
    print(f'{n} is EVEN number')
else:
    print(f'{n} is ODD number')
