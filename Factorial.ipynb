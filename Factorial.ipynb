import math
math.factorial(y)
//y = number whose factorial you need to find
